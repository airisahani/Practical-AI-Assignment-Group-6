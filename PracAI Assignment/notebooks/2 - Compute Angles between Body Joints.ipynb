{
 "cells": [
  {
   "cell_type": "markdown",
   "id": "90f2db5c",
   "metadata": {},
   "source": [
    "# **<center><font style=\"color:rgb(100,109,254)\">Creating a Full-Fledge Exercise Monitoring System</font> </center>**\n",
    "\n",
    "\n",
    "## **<font style=\"color:rgb(134,19,348)\"> Module Outline </font>**\n",
    "\n",
    "The module can be split into the following parts:\n",
    "\n",
    "- *1: Create a Pose Landmarks Detector*\n",
    "\n",
    "- ***2:* Compute Angles between Body Joints** \n",
    "\n",
    "- *3: Build the Final Application*\n",
    "\n",
    "Alright, let's get started."
   ]
  },
  {
   "cell_type": "code",
   "execution_count": 1,
   "id": "00d8b553",
   "metadata": {
    "tags": []
   },
   "outputs": [
    {
     "name": "stdout",
     "output_type": "stream",
     "text": [
      "Mediapipe version: 0.8.9.1, it should be 0.8.9.1\n"
     ]
    }
   ],
   "source": [
    "import cv2\n",
    "import math\n",
    "import numpy as np\n",
    "import mediapipe as mp\n",
    "import matplotlib.pyplot as plt\n",
    "from previous_lesson import detectPoseLandmarks\n",
    "from importlib.metadata import version\n",
    "print(f\"Mediapipe version: {version('mediapipe')}, it should be 0.8.9.1\")"
   ]
  },
  {
   "cell_type": "markdown",
   "id": "9f313d4f",
   "metadata": {},
   "source": [
    "## **<font style=\"color:rgb(134,19,348)\">Initialize the Pose Detection Model</font>**\n",
    "\n",
    "After that, we will have to initialize the **`mp.solutions.pose`** class and then set up the **`mp.solutions.pose.Pose()`** function (for images and videos as well) with appropriate arguments, as we had done in the previous lesson."
   ]
  },
  {
   "cell_type": "code",
   "execution_count": 2,
   "id": "302416ee",
   "metadata": {
    "tags": []
   },
   "outputs": [],
   "source": [
    "# Initializing mediapipe pose class.\n",
    "mp_pose = mp.solutions.pose\n",
    "\n",
    "# Set up the pose landmarks function for images.\n",
    "pose_images = mp_pose.Pose(static_image_mode=True, model_complexity=2, enable_segmentation=True,\n",
    "                           min_detection_confidence=0.8)\n",
    "\n",
    "# Set up the pose landmarks function for videos.\n",
    "pose_videos = mp_pose.Pose(static_image_mode=False, model_complexity=1, smooth_landmarks=True,\n",
    "                           enable_segmentation=True, smooth_segmentation=True, \n",
    "                           min_detection_confidence=0.5, min_tracking_confidence=0.8)"
   ]
  },
  {
   "cell_type": "markdown",
   "id": "ee2f8b63",
   "metadata": {},
   "source": [
    "## **<font style=\"color:rgb(134,19,348)\">Create a Function to Calculate Angle between Landmarks</font>**\n",
    "\n",
    "Now we will create a function **`calculateAngle()`** that we will utilize to compute angles between different body joints and depending upon those angles we will (in the next lesson) monitor different exercises of the prominent person in an image/frame in real-time.\n",
    "\n",
    "<center><img src='https://drive.google.com/uc?export=download&id=1lhAcgq2jy5NavGQeYjTwwEAZIu6Aeypg' width=500></center>\n",
    "\n",
    "But this approach does have a drawback that limits its use to a controlled environment, the calculated angles vary with the angle between the person and the camera. So the person needs to be facing the camera straight to get the best results.\n",
    "\n",
    "\n",
    "The function **`calculateAngle()`** will need three landmarks points as these are the minimum number of points required to make two lines and it will be the same as calculating an angle between two lines. The first point (landmark) will be the starting point of the first line, the second point (landmark) will be the ending point of the first line and the starting point of the second line as well, and the third point (landmark) will be the ending point of the second line.\n",
    "\n",
    "<center><img src='https://drive.google.com/uc?export=download&id=1KSN2OnenNMZ7Jwai_E1jeWdP5Mzay3Ad' width=400></center>"
   ]
  },
  {
   "cell_type": "code",
   "execution_count": 3,
   "id": "c6e42714",
   "metadata": {
    "tags": []
   },
   "outputs": [],
   "source": [
    "def calculateAngle(image, landmarks, draw=True, display=True):\n",
    "    '''\n",
    "    This function calculates angle between three different landmarks.\n",
    "    Args:\n",
    "        image:    The image on which the three points are.\n",
    "        landmark: The x, y coordinates of the first, second and the third landmark.\n",
    "        draw:     A boolean value that is if set to true the function draws the points and the lines  \n",
    "                  joining the points along with an arc between the lines on the image.\n",
    "        display:  A boolean value that is if set to true the function writes the calculated angle \n",
    "                  on the output image, displays the output image and returns nothing.\n",
    "    Returns:\n",
    "        angle: The calculated angle between the three landmarks points on the imaghe.\n",
    "    '''\n",
    "    \n",
    "    # Get the height and width of the image.\n",
    "    height, width, _ = image.shape\n",
    "    \n",
    "    # Get the three landmarks x and y coordinates.\n",
    "    (x1, y1), (x2, y2), (x3, y3) = landmarks\n",
    "\n",
    "    # Calculate the angle between the three points\n",
    "    angle = round(math.degrees(math.atan2(y3 - y2, x3 - x2) - math.atan2(y1 - y2, x1 - x2)), 1)\n",
    "    \n",
    "    # Check if the angle is less than zero.\n",
    "    if angle < 0:\n",
    "\n",
    "        # Add 360 to the found angle.\n",
    "        angle += 360\n",
    "    \n",
    "    # Check if the points and the the lines joining the points are specified to be drawn.\n",
    "    if draw:\n",
    "            \n",
    "        # Draw lines between the three points on the image. \n",
    "        cv2.line(image, pt1=(x1, y1), pt2=(x2, y2), color=(255, 0, 255), thickness=4)\n",
    "        cv2.line(image, pt1=(x2, y2), pt2=(x3, y3), color=(255, 0, 255), thickness=4)\n",
    "        \n",
    "        # Draw circles on the points on the image.\n",
    "        cv2.circle(image, center=(int(x1), int(y1)), radius=15, color=(0, 255, 0), thickness=-1)\n",
    "        cv2.circle(image, center=(int(x2), int(y2)), radius=15, color=(0, 255, 0), thickness=-1)\n",
    "        cv2.circle(image, center=(int(x3), int(y3)), radius=15, color=(0, 255, 0), thickness=-1)\n",
    "        \n",
    "        # Draw an arc between the two lines.\n",
    "        ####################################################################################################\n",
    "        \n",
    "        # Get the starting and ending points of the arc.\n",
    "        start_point = int((3/4*x2)+(1/4*x1)), int((3/4*y2)+(1/4*y1))\n",
    "        end_point = int((3/4*x2)+(1/4*x3)), int((3/4*y2)+(1/4*y3))\n",
    "        \n",
    "        # Calculate the radius of the arc.\n",
    "        radius = int(np.sqrt((start_point[0]-end_point[0])*(start_point[0]-end_point[0]) \n",
    "                             + (start_point[1]-end_point[1])*(start_point[1]-end_point[1]))) \n",
    "        \n",
    "        # Calculate the starting and ending angles of the elliptic arc in degrees.\n",
    "        # Starting angle is where you want to start drawing your arc. (This will be 0 if you want to draw a complete circle).\n",
    "        # Ending angle is where you want to stop drawing your arc. (This will be 360 if you want to draw a complete circle).\n",
    "        start_angle = int((180/math.pi*math.atan2(start_point[1]-y2, start_point[0]-x2)))\n",
    "        end_angle = int((180/math.pi*math.atan2(end_point[1]-y2, end_point[0]-x2)))\n",
    "        \n",
    "        # Check if starting angle is greater than ending angle.\n",
    "        # then we have to draw elliptic arc in counterclockwise direction.\n",
    "        if start_angle > end_angle:\n",
    "            \n",
    "            # Subtract 360 from the absolute value of the ending angle.\n",
    "            # This is required to draw the elliptic arc in counterclockwise direction.\n",
    "            end_angle = 360 - abs(end_angle)\n",
    "        \n",
    "        # Draw the the elliptic arc between the two lines on the image.\n",
    "        cv2.ellipse(image, center=(x2, y2), axes=(radius, radius), \n",
    "                    angle=0., startAngle=start_angle, endAngle=end_angle, color=(0, 255, 0), thickness=10)\n",
    "        \n",
    "        ####################################################################################################\n",
    "\n",
    "    # Check if the image is specified to be displayed.\n",
    "    if display:\n",
    "        \n",
    "        # Write the calculated angle on the frame. \n",
    "        cv2.putText(image, f'ANGLE: {angle}', (10, int(height/20)),\n",
    "                    cv2.FONT_HERSHEY_PLAIN, int(width/350), (255, 255, 0), int(width/200))\n",
    "        \n",
    "        # Display the resultant image.\n",
    "        plt.figure(figsize=[10,10])\n",
    "        plt.imshow(image[:,:,::-1]);plt.title(\"Output Image\");plt.axis('off');\n",
    "    \n",
    "    # Otherwise.\n",
    "    else:\n",
    "    \n",
    "        # Return the output image and the calculated angle.\n",
    "        return image, angle"
   ]
  },
  {
   "cell_type": "markdown",
   "id": "412e4ec2",
   "metadata": {},
   "source": [
    "Now we will check if the function **`calculateAngle()`** created above, is working or not, by calculating the angle between three random points on a few sample images."
   ]
  },
  {
   "cell_type": "code",
   "execution_count": 4,
   "id": "29c0c40b",
   "metadata": {
    "tags": []
   },
   "outputs": [
    {
     "name": "stderr",
     "output_type": "stream",
     "text": [
      "INFO: Created TensorFlow Lite XNNPACK delegate for CPU.\n"
     ]
    },
    {
     "data": {
      "image/png": "[encoded data removed]",
      "text/plain": [
       "<Figure size 720x720 with 1 Axes>"
      ]
     },
     "metadata": {
      "needs_background": "light"
     },
     "output_type": "display_data"
    }
   ],
   "source": [
    "# Calculate the angle between the three landmarks and display the results.\n",
    "image = np.zeros((960, 1280, 3), np.uint8)\n",
    "pt1 = (358, 326)\n",
    "pt2 = (542, 533)\n",
    "pt3 = (718, 321)\n",
    "angle = calculateAngle(image, (pt1, pt2, pt3))"
   ]
  },
  {
   "cell_type": "code",
   "execution_count": 5,
   "id": "6bdb8ab2",
   "metadata": {
    "tags": []
   },
   "outputs": [
    {
     "data": {
      "image/png": "[encoded data removed]",
      "text/plain": [
       "<Figure size 720x720 with 1 Axes>"
      ]
     },
     "metadata": {
      "needs_background": "light"
     },
     "output_type": "display_data"
    }
   ],
   "source": [
    "# Calculate the angle between the three landmarks and display the results.\n",
    "image = np.zeros((960, 1280, 3), np.uint8)\n",
    "angle = calculateAngle(image, (pt3, pt2, pt1))"
   ]
  },
  {
   "cell_type": "markdown",
   "id": "19bebe94",
   "metadata": {},
   "source": [
    "Working perfectly fine! and as we saw that the order in which we pass the points also matters. Now, let's test it on a real-time webcam feed to calculate the angles between the right and left `SHOULDER`, `ELBOW`, and `WRIST` coordinates. We will first have to perform the pose detection using the **`detectPoseLandmarks()`** function that we had created in the previous lesson and then we will pass the appropriate landmarks points to the **`calculateAngle()`** function created above, to compute angles between different body joints."
   ]
  },
  {
   "cell_type": "code",
   "execution_count": 7,
   "id": "b2f33971",
   "metadata": {
    "tags": []
   },
   "outputs": [],
   "source": [
    "# Initialize the VideoCapture object to read from the webcam.\n",
    "camera_video = cv2.VideoCapture(0)\n",
    "camera_video.set(3,1280)\n",
    "camera_video.set(4,960)\n",
    "\n",
    "# Create named window for resizing purposes.\n",
    "cv2.namedWindow('Webcam Feed', cv2.WINDOW_NORMAL)\n",
    "\n",
    "# Iterate until the webcam is accessed successfully.\n",
    "while camera_video.isOpened():\n",
    "    \n",
    "    # Read a frame.\n",
    "    ok, frame = camera_video.read()\n",
    "    \n",
    "    # Check if frame is not read properly then continue to the next iteration to read the next frame.\n",
    "    if not ok:\n",
    "        continue\n",
    "        \n",
    "    # Get the height and width of the frame of the webcam video.\n",
    "    frame_height, frame_width, _ = frame.shape\n",
    "    \n",
    "    # Perform Pose landmarks detection on the frame.\n",
    "    frame, pose_landmarks = detectPoseLandmarks(frame, pose_videos,  draw=False, display=False)\n",
    "    \n",
    "    # Check if the pose landmarks are detected.\n",
    "    if len(pose_landmarks) > 0:\n",
    "    \n",
    "        # Calculate the angle between the right shoulder, elbow and wrist points. \n",
    "        frame, right_arm_angle = calculateAngle(frame, (pose_landmarks[mp_pose.PoseLandmark.RIGHT_WRIST.value],\n",
    "                                                        pose_landmarks[mp_pose.PoseLandmark.RIGHT_ELBOW.value],\n",
    "                                                        pose_landmarks[mp_pose.PoseLandmark.RIGHT_SHOULDER.value]), display=False)\n",
    "\n",
    "        # Calculate the angle between the left shoulder, elbow and wrist points. \n",
    "        frame, left_arm_angle = calculateAngle(frame, (pose_landmarks[mp_pose.PoseLandmark.LEFT_SHOULDER.value],\n",
    "                                                        pose_landmarks[mp_pose.PoseLandmark.LEFT_ELBOW.value],\n",
    "                                                        pose_landmarks[mp_pose.PoseLandmark.LEFT_WRIST.value]), display=False)\n",
    "    # Otherwise.\n",
    "    else:\n",
    "        \n",
    "        # Set the right and left arm angle to None.\n",
    "        right_arm_angle = None\n",
    "        left_arm_angle = None\n",
    "    \n",
    "    # Flip the frame horizontally for natural (selfie-view) visualization.\n",
    "    frame = cv2.flip(frame, 1)\n",
    "    \n",
    "    # Check if the right and left arm angle are found.\n",
    "    if right_arm_angle and left_arm_angle:\n",
    "        \n",
    "        # Write the calculated left arm angle on the frame. \n",
    "        cv2.putText(frame, f'LEFT ARM ANGLE: {left_arm_angle}', (10, int(frame_height/20)),\n",
    "                    cv2.FONT_HERSHEY_PLAIN, int(frame_width/430), (0, 255, 0), int(frame_width/430))\n",
    "\n",
    "        # Write the calculated right arm angle on the frame. \n",
    "        cv2.putText(frame, f'RIGHT ARM ANGLE: {right_arm_angle}', (int(frame_width/1.5), int(frame_height/20)),\n",
    "                    cv2.FONT_HERSHEY_PLAIN, int(frame_width/430), (0, 255, 0), int(frame_width/430))\n",
    "        \n",
    "    # Display the frame.\n",
    "    cv2.imshow('Webcam Feed', frame)\n",
    "    \n",
    "    # Wait for 1ms. If a key is pressed, retreive the ASCII code of the key.\n",
    "    k = cv2.waitKey(1) & 0xFF\n",
    "    \n",
    "    # Check if 'ESC' is pressed and break the loop.\n",
    "    if (k == 27):\n",
    "        break\n",
    "\n",
    "# Release the VideoCapture Object and close the windows.\n",
    "camera_video.release()\n",
    "cv2.destroyAllWindows()"
   ]
  },
  {
   "cell_type": "markdown",
   "id": "85d198a1",
   "metadata": {},
   "source": [
    "Working as expected on a real-time webcam feed as well."
   ]
  },
  {
   "cell_type": "markdown",
   "id": "d8c69d25",
   "metadata": {},
   "source": [
   ]
  }
 ],
 "metadata": {
  "kernelspec": {
   "display_name": "Python 3 (ipykernel)",
   "language": "python",
   "name": "python3"
  },
  "language_info": {
   "codemirror_mode": {
    "name": "ipython",
    "version": 3
   },
   "file_extension": ".py",
   "mimetype": "text/x-python",
   "name": "python",
   "nbconvert_exporter": "python",
   "pygments_lexer": "ipython3",
   "version": "3.9.7"
  }
 },
 "nbformat": 4,
 "nbformat_minor": 5
}
